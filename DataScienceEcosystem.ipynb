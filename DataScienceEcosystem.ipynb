{
 "cells": [
  {
   "cell_type": "markdown",
   "id": "87e05289-75b6-4545-a3b6-362a8fe4cb62",
   "metadata": {},
   "source": [
    "# Data Science Tools and Ecosystem"
   ]
  },
  {
   "cell_type": "markdown",
   "id": "ab20c755-1435-4141-9cfd-4c68b21a495c",
   "metadata": {},
   "source": [
    "## Author: David Buckingham "
   ]
  },
  {
   "cell_type": "markdown",
   "id": "2a6f1fe5-da99-4f79-9630-ee05b0688fbb",
   "metadata": {},
   "source": [
    "In this notebook, Data Science Tools and Ecosystem are summarized."
   ]
  },
  {
   "cell_type": "markdown",
   "id": "3837d1bf-a654-4071-a003-81b1f8c243f7",
   "metadata": {},
   "source": [
    "**Objectives:**\n",
    "- List popular programming languages for data science\n",
    "- Recall popular libraries used by data scientists\n",
    "- Practice markdown syntax\n",
    "- List tools used by data scientists"
   ]
  },
  {
   "cell_type": "markdown",
   "id": "e7779c21-4dbe-416b-9c99-8fdfb259c84b",
   "metadata": {},
   "source": [
    "Some of the popular languages that Data Scientists use are:\n",
    "1. Python\n",
    "2. R \n",
    "3. SQL"
   ]
  },
  {
   "cell_type": "markdown",
   "id": "272a2198-50bf-4308-b75d-b1ac750ebae7",
   "metadata": {},
   "source": [
    "Some of the commonly used libraries used by Data Scientists include:\n",
    "\n",
    "1. Pandas\n",
    "2. Numpy\n",
    "3. Seaborn\n",
    "4. Matplotlib\n"
   ]
  },
  {
   "cell_type": "markdown",
   "id": "0dc5cce5-8320-4caa-8c46-464a850dc4e8",
   "metadata": {
    "tags": []
   },
   "source": [
    "|Data Science Tools|\n",
    "|:------------------|\n",
    "|RStudio|\n",
    "|TensorFlow|\n",
    "|Jupyter Notebooks|\n",
    "|Hadoop|"
   ]
  },
  {
   "cell_type": "markdown",
   "id": "2773f362-b69f-465a-9f5d-c4d84db169d4",
   "metadata": {},
   "source": [
    "### Below are a few examples of evaluating arithmetic expressions in Python"
   ]
  },
  {
   "cell_type": "code",
   "execution_count": 2,
   "id": "ac68f7ad-080a-43c0-b763-e0dfeed8588d",
   "metadata": {
    "tags": []
   },
   "outputs": [
    {
     "data": {
      "text/plain": [
       "17"
      ]
     },
     "execution_count": 2,
     "metadata": {},
     "output_type": "execute_result"
    }
   ],
   "source": [
    "# This is a simple arithmetic expression \n",
    "(3*4) + 5"
   ]
  },
  {
   "cell_type": "code",
   "execution_count": 3,
   "id": "91f65878-fd64-4931-9541-93f684403a94",
   "metadata": {
    "tags": []
   },
   "outputs": [
    {
     "data": {
      "text/plain": [
       "3.3333333333333335"
      ]
     },
     "execution_count": 3,
     "metadata": {},
     "output_type": "execute_result"
    }
   ],
   "source": [
    "# This expression will convert 200 minutes to hours\n",
    "200/60"
   ]
  },
  {
   "cell_type": "code",
   "execution_count": null,
   "id": "d1072747-12da-4fa3-8028-799c45cd720b",
   "metadata": {},
   "outputs": [],
   "source": []
  }
 ],
 "metadata": {
  "kernelspec": {
   "display_name": "Python",
   "language": "python",
   "name": "conda-env-python-py"
  },
  "language_info": {
   "codemirror_mode": {
    "name": "ipython",
    "version": 3
   },
   "file_extension": ".py",
   "mimetype": "text/x-python",
   "name": "python",
   "nbconvert_exporter": "python",
   "pygments_lexer": "ipython3",
   "version": "3.7.12"
  }
 },
 "nbformat": 4,
 "nbformat_minor": 5
}
